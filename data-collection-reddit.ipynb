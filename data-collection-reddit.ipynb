{
 "cells": [
  {
   "cell_type": "code",
   "execution_count": 13,
   "id": "25f87321",
   "metadata": {},
   "outputs": [],
   "source": [
    "import praw\n",
    "from datetime import datetime as dt\n",
    "import pandas as pd"
   ]
  },
  {
   "cell_type": "code",
   "execution_count": 14,
   "id": "98285060",
   "metadata": {},
   "outputs": [],
   "source": [
    "reddit = praw.Reddit(\n",
    "    client_id=\"**********************\",\n",
    "    client_secret=\"******************************\",\n",
    "    user_agent=\"**********\"\n",
    ")"
   ]
  },
  {
   "cell_type": "code",
   "execution_count": 15,
   "id": "3ded85b0",
   "metadata": {},
   "outputs": [],
   "source": [
    "subreddit = reddit.subreddit(\"fantasyfootball\")"
   ]
  },
  {
   "cell_type": "code",
   "execution_count": 16,
   "id": "26491164",
   "metadata": {},
   "outputs": [],
   "source": [
    "posts = subreddit.top(time_filter=\"all\", limit=None)\n",
    "\n",
    "# only get posts from during the 2023 NFL regular season\n",
    "start_date = dt(2023, 9, 6).timestamp()\n",
    "end_date = dt(2024, 1, 8).timestamp()"
   ]
  },
  {
   "cell_type": "markdown",
   "id": "a632d8cf",
   "metadata": {},
   "source": [
    "## Overperformers\n",
    "Top 5 players at each position who overperformed their projections.\n",
    "- Each list contains multiple variations of how the player may be mentioned or referred to by in Reddit posts"
   ]
  },
  {
   "cell_type": "code",
   "execution_count": 17,
   "id": "a4383a04",
   "metadata": {},
   "outputs": [],
   "source": [
    "t5_qb = ['Minshew', 'Baker', 'Mayfield', 'Jordan Love', 'Stroud', 'Purdy']\n",
    "t5_rb = ['Kyren', 'Justice Hill', 'Jerome Ford', 'Ford','Keaton Mitchell', 'Keaton', 'Mitchell', 'Royce Freeman']\n",
    "t5_wr = ['Puka', 'Nacua', 'CeeDee', 'Ceedee', 'Lamb', 'Rashee', 'Nico', 'Nico Collins', 'Jayden Reed', 'Reed']\n",
    "t5_te = ['LaPorta', 'Laporta', 'McBride', 'Mcbride', 'Engram', 'Ferguson', 'Jonnu']"
   ]
  },
  {
   "cell_type": "markdown",
   "id": "9a298a42",
   "metadata": {},
   "source": [
    "## Underperformers\n",
    "Bottom 5 players at each position who underperformed their projections.\n",
    "- Each list contains multiple variations of how the player may be mentioned or referred to by in Reddit posts"
   ]
  },
  {
   "cell_type": "code",
   "execution_count": 18,
   "id": "c5a75131",
   "metadata": {},
   "outputs": [],
   "source": [
    "b5_qb = ['Mahomes', 'Pat', 'Bryce', 'Bryce Young', 'Geno', 'Trevor', 'Lawrence', 'TLaw', 'Tlaw', 'T Law', 'Russ', 'Russell Wilson']\n",
    "b5_rb = ['Dameon', 'Pierce', 'Miles Sanders', 'Derrick Henry', 'King Henry', 'Henry', 'Dalvin Cook', 'Dalvin', 'Mattison']\n",
    "b5_wr = ['Skyy Moore', 'Sky Moore', 'Peoples-Jones', 'Peoples Jones', 'DPJ', 'Renfrow', 'Lazard', 'Van Jefferson']\n",
    "b5_te = ['Kelce', 'Travis Kelce', 'Fant', 'Brenton Strange', 'Higbee', 'Gesicki']"
   ]
  },
  {
   "cell_type": "code",
   "execution_count": 19,
   "id": "05e7cac2",
   "metadata": {},
   "outputs": [],
   "source": [
    "# get reddit posts mentioning each player\n",
    "def query(query_list):\n",
    "    posts = []\n",
    "    for q in query_list:\n",
    "        # Perform search query\n",
    "        search_results = subreddit.search(q,\n",
    "                                          sort='top',\n",
    "                                          time_filter='year',  # Filter by posts created after a specific time\n",
    "                                          syntax='cloudsearch',  # Use cloudsearch syntax\n",
    "                                          limit=1000)  # Return all search results\n",
    "\n",
    "        for result in search_results:\n",
    "            post_id =  result.id\n",
    "            body = f'{result.title} {result.selftext}'\n",
    "            created = result.created_utc\n",
    "            author = result.author\n",
    "\n",
    "            if created >= start_date and created <= end_date:\n",
    "                post=[post_id,body,created,author]\n",
    "                \n",
    "                # prevent duplicate posts in dataset\n",
    "                if post not in posts:\n",
    "                    posts.append(post)\n",
    "                    \n",
    "    df = pd.DataFrame(posts, columns=['id','body','created','author'])\n",
    "    \n",
    "    \n",
    "    return df"
   ]
  },
  {
   "cell_type": "code",
   "execution_count": 20,
   "id": "5817154f",
   "metadata": {},
   "outputs": [],
   "source": [
    "# overperformer posts\n",
    "t5_qb_posts = query(t5_qb)\n",
    "t5_rb_posts = query(t5_rb)\n",
    "t5_wr_posts = query(t5_wr)\n",
    "t5_te_posts = query(t5_te)\n",
    "\n",
    "# underperformer posts\n",
    "b5_qb_posts = query(b5_qb)\n",
    "b5_rb_posts = query(b5_rb)\n",
    "b5_wr_posts = query(b5_wr)\n",
    "b5_te_posts = query(b5_te)"
   ]
  },
  {
   "cell_type": "markdown",
   "id": "3ce4df2f",
   "metadata": {},
   "source": [
    "## Writing each dataframe of positional groups to individual Excel sheets\n",
    "The Overperformers and Underperformers were written in separate code blocks to bypass the \"Too Many Requests\" error"
   ]
  },
  {
   "cell_type": "code",
   "execution_count": 24,
   "id": "45e40a46",
   "metadata": {},
   "outputs": [],
   "source": [
    "with pd.ExcelWriter('player_reddit_raw.xlsx') as writer:         \n",
    "        # writes the dataframes of each position group to their own sheet in the excel file\n",
    "        t5_qb_posts.to_excel(writer, sheet_name=f'QB Overperformers', index=False)\n",
    "        t5_rb_posts.to_excel(writer, sheet_name=f'RB Overperformers', index=False)\n",
    "        t5_wr_posts.to_excel(writer, sheet_name=f'WR Overperformers', index=False)\n",
    "        t5_te_posts.to_excel(writer, sheet_name=f'TE Overperformers', index=False)"
   ]
  },
  {
   "cell_type": "code",
   "execution_count": 27,
   "id": "d861ed13",
   "metadata": {},
   "outputs": [],
   "source": [
    "with pd.ExcelWriter('player_reddit_raw.xlsx', mode='a') as writer:         \n",
    "        # writes the dataframes of each position group to their own sheet in the excel file\n",
    "        b5_qb_posts.to_excel(writer, sheet_name=f'QB Underperformers', index=False)\n",
    "        b5_rb_posts.to_excel(writer, sheet_name=f'RB Underperformers', index=False)\n",
    "        b5_wr_posts.to_excel(writer, sheet_name=f'WR Underperformers', index=False)\n",
    "        b5_te_posts.to_excel(writer, sheet_name=f'TE Underperformers', index=False)"
   ]
  }
 ],
 "metadata": {
  "kernelspec": {
   "display_name": "Python 3 (ipykernel)",
   "language": "python",
   "name": "python3"
  },
  "language_info": {
   "codemirror_mode": {
    "name": "ipython",
    "version": 3
   },
   "file_extension": ".py",
   "mimetype": "text/x-python",
   "name": "python",
   "nbconvert_exporter": "python",
   "pygments_lexer": "ipython3",
   "version": "3.11.4"
  }
 },
 "nbformat": 4,
 "nbformat_minor": 5
}
